{
 "cells": [
  {
   "cell_type": "markdown",
   "id": "8e75c425",
   "metadata": {},
   "source": [
    "<h4>\n",
    "Date : 3 September</h4>\n",
    "<h4>Barcelona Assignment</h4>\n",
    "<h4>Regd No - 22231\n",
    "||class: MSC 1st Year</h4>"
   ]
  },
  {
   "cell_type": "code",
   "execution_count": 5,
   "id": "a5d50e34",
   "metadata": {},
   "outputs": [],
   "source": [
    "import pandas as pd\n",
    "import numpy as np\n",
    "import matplotlib.pyplot as plt\n",
    "plt.style.use('seaborn')"
   ]
  },
  {
   "cell_type": "code",
   "execution_count": 6,
   "id": "9c3e8d1d",
   "metadata": {},
   "outputs": [],
   "source": [
    "df = pd.read_csv(r'immigrants_by_nationality.csv')"
   ]
  },
  {
   "cell_type": "code",
   "execution_count": 7,
   "id": "dddcd4dc",
   "metadata": {},
   "outputs": [
    {
     "data": {
      "text/html": [
       "<div>\n",
       "<style scoped>\n",
       "    .dataframe tbody tr th:only-of-type {\n",
       "        vertical-align: middle;\n",
       "    }\n",
       "\n",
       "    .dataframe tbody tr th {\n",
       "        vertical-align: top;\n",
       "    }\n",
       "\n",
       "    .dataframe thead th {\n",
       "        text-align: right;\n",
       "    }\n",
       "</style>\n",
       "<table border=\"1\" class=\"dataframe\">\n",
       "  <thead>\n",
       "    <tr style=\"text-align: right;\">\n",
       "      <th></th>\n",
       "      <th>year</th>\n",
       "      <th>district_code</th>\n",
       "      <th>district_name</th>\n",
       "      <th>neighbourhood_code</th>\n",
       "      <th>neighbourhood_name</th>\n",
       "      <th>nationality</th>\n",
       "      <th>number</th>\n",
       "    </tr>\n",
       "  </thead>\n",
       "  <tbody>\n",
       "    <tr>\n",
       "      <th>0</th>\n",
       "      <td>2017</td>\n",
       "      <td>1</td>\n",
       "      <td>Ciutat Vella</td>\n",
       "      <td>1</td>\n",
       "      <td>el Raval</td>\n",
       "      <td>Spain</td>\n",
       "      <td>1109</td>\n",
       "    </tr>\n",
       "    <tr>\n",
       "      <th>1</th>\n",
       "      <td>2017</td>\n",
       "      <td>1</td>\n",
       "      <td>Ciutat Vella</td>\n",
       "      <td>2</td>\n",
       "      <td>el Barri Gòtic</td>\n",
       "      <td>Spain</td>\n",
       "      <td>482</td>\n",
       "    </tr>\n",
       "    <tr>\n",
       "      <th>2</th>\n",
       "      <td>2017</td>\n",
       "      <td>1</td>\n",
       "      <td>Ciutat Vella</td>\n",
       "      <td>3</td>\n",
       "      <td>la Barceloneta</td>\n",
       "      <td>Spain</td>\n",
       "      <td>414</td>\n",
       "    </tr>\n",
       "    <tr>\n",
       "      <th>3</th>\n",
       "      <td>2017</td>\n",
       "      <td>1</td>\n",
       "      <td>Ciutat Vella</td>\n",
       "      <td>4</td>\n",
       "      <td>Sant Pere, Santa Caterina i la Ribera</td>\n",
       "      <td>Spain</td>\n",
       "      <td>537</td>\n",
       "    </tr>\n",
       "    <tr>\n",
       "      <th>4</th>\n",
       "      <td>2017</td>\n",
       "      <td>2</td>\n",
       "      <td>Eixample</td>\n",
       "      <td>5</td>\n",
       "      <td>el Fort Pienc</td>\n",
       "      <td>Spain</td>\n",
       "      <td>663</td>\n",
       "    </tr>\n",
       "  </tbody>\n",
       "</table>\n",
       "</div>"
      ],
      "text/plain": [
       "   year  district_code district_name  neighbourhood_code  \\\n",
       "0  2017              1  Ciutat Vella                   1   \n",
       "1  2017              1  Ciutat Vella                   2   \n",
       "2  2017              1  Ciutat Vella                   3   \n",
       "3  2017              1  Ciutat Vella                   4   \n",
       "4  2017              2      Eixample                   5   \n",
       "\n",
       "                      neighbourhood_name nationality  number  \n",
       "0                               el Raval       Spain    1109  \n",
       "1                         el Barri Gòtic       Spain     482  \n",
       "2                         la Barceloneta       Spain     414  \n",
       "3  Sant Pere, Santa Caterina i la Ribera       Spain     537  \n",
       "4                          el Fort Pienc       Spain     663  "
      ]
     },
     "execution_count": 7,
     "metadata": {},
     "output_type": "execute_result"
    }
   ],
   "source": [
    "df.head()"
   ]
  },
  {
   "cell_type": "code",
   "execution_count": 8,
   "id": "28fe4993",
   "metadata": {},
   "outputs": [
    {
     "data": {
      "text/plain": [
       "<bound method DataFrame.info of        year  district_code district_name  neighbourhood_code  \\\n",
       "0      2017              1  Ciutat Vella                   1   \n",
       "1      2017              1  Ciutat Vella                   2   \n",
       "2      2017              1  Ciutat Vella                   3   \n",
       "3      2017              1  Ciutat Vella                   4   \n",
       "4      2017              2      Eixample                   5   \n",
       "...     ...            ...           ...                 ...   \n",
       "35219  2015             10    Sant Martí                  70   \n",
       "35220  2015             10    Sant Martí                  71   \n",
       "35221  2015             10    Sant Martí                  72   \n",
       "35222  2015             10    Sant Martí                  73   \n",
       "35223  2015             99     No consta                  99   \n",
       "\n",
       "                          neighbourhood_name     nationality  number  \n",
       "0                                   el Raval           Spain    1109  \n",
       "1                             el Barri Gòtic           Spain     482  \n",
       "2                             la Barceloneta           Spain     414  \n",
       "3      Sant Pere, Santa Caterina i la Ribera           Spain     537  \n",
       "4                              el Fort Pienc           Spain     663  \n",
       "...                                      ...             ...     ...  \n",
       "35219                  el Besòs i el Maresme  No information       0  \n",
       "35220                Provençals del Poblenou  No information       0  \n",
       "35221               Sant Martí de Provençals  No information       0  \n",
       "35222                    la Verneda i la Pau  No information       1  \n",
       "35223                              No consta  No information       0  \n",
       "\n",
       "[35224 rows x 7 columns]>"
      ]
     },
     "execution_count": 8,
     "metadata": {},
     "output_type": "execute_result"
    }
   ],
   "source": [
    "df.info"
   ]
  },
  {
   "cell_type": "code",
   "execution_count": 9,
   "id": "258e7735",
   "metadata": {},
   "outputs": [
    {
     "data": {
      "text/plain": [
       "(35224, 7)"
      ]
     },
     "execution_count": 9,
     "metadata": {},
     "output_type": "execute_result"
    }
   ],
   "source": [
    "df.shape"
   ]
  },
  {
   "cell_type": "code",
   "execution_count": 10,
   "id": "684900a9",
   "metadata": {},
   "outputs": [],
   "source": [
    "table = pd.pivot_table(data = df, index='district_name',values='number',aggfunc = np.sum)"
   ]
  },
  {
   "cell_type": "code",
   "execution_count": 11,
   "id": "5d58a966",
   "metadata": {},
   "outputs": [
    {
     "data": {
      "text/html": [
       "<div>\n",
       "<style scoped>\n",
       "    .dataframe tbody tr th:only-of-type {\n",
       "        vertical-align: middle;\n",
       "    }\n",
       "\n",
       "    .dataframe tbody tr th {\n",
       "        vertical-align: top;\n",
       "    }\n",
       "\n",
       "    .dataframe thead th {\n",
       "        text-align: right;\n",
       "    }\n",
       "</style>\n",
       "<table border=\"1\" class=\"dataframe\">\n",
       "  <thead>\n",
       "    <tr style=\"text-align: right;\">\n",
       "      <th></th>\n",
       "      <th>number</th>\n",
       "    </tr>\n",
       "    <tr>\n",
       "      <th>district_name</th>\n",
       "      <th></th>\n",
       "    </tr>\n",
       "  </thead>\n",
       "  <tbody>\n",
       "    <tr>\n",
       "      <th>Ciutat Vella</th>\n",
       "      <td>35355</td>\n",
       "    </tr>\n",
       "    <tr>\n",
       "      <th>Eixample</th>\n",
       "      <td>52700</td>\n",
       "    </tr>\n",
       "    <tr>\n",
       "      <th>Gràcia</th>\n",
       "      <td>20168</td>\n",
       "    </tr>\n",
       "    <tr>\n",
       "      <th>Horta-Guinardó</th>\n",
       "      <td>21309</td>\n",
       "    </tr>\n",
       "    <tr>\n",
       "      <th>Les Corts</th>\n",
       "      <td>12570</td>\n",
       "    </tr>\n",
       "    <tr>\n",
       "      <th>No consta</th>\n",
       "      <td>17</td>\n",
       "    </tr>\n",
       "    <tr>\n",
       "      <th>Nou Barris</th>\n",
       "      <td>22560</td>\n",
       "    </tr>\n",
       "    <tr>\n",
       "      <th>Sant Andreu</th>\n",
       "      <td>17709</td>\n",
       "    </tr>\n",
       "    <tr>\n",
       "      <th>Sant Martí</th>\n",
       "      <td>35114</td>\n",
       "    </tr>\n",
       "    <tr>\n",
       "      <th>Sants-Montjuïc</th>\n",
       "      <td>33125</td>\n",
       "    </tr>\n",
       "    <tr>\n",
       "      <th>Sarrià-Sant Gervasi</th>\n",
       "      <td>20854</td>\n",
       "    </tr>\n",
       "  </tbody>\n",
       "</table>\n",
       "</div>"
      ],
      "text/plain": [
       "                     number\n",
       "district_name              \n",
       "Ciutat Vella          35355\n",
       "Eixample              52700\n",
       "Gràcia                20168\n",
       "Horta-Guinardó        21309\n",
       "Les Corts             12570\n",
       "No consta                17\n",
       "Nou Barris            22560\n",
       "Sant Andreu           17709\n",
       "Sant Martí            35114\n",
       "Sants-Montjuïc        33125\n",
       "Sarrià-Sant Gervasi   20854"
      ]
     },
     "execution_count": 11,
     "metadata": {},
     "output_type": "execute_result"
    }
   ],
   "source": [
    "table"
   ]
  },
  {
   "cell_type": "markdown",
   "id": "5f70ddf9",
   "metadata": {},
   "source": [
    "<h2>Bar Graph 1</h2>\n",
    "<h3>Immigrants in Each District</h3>"
   ]
  },
  {
   "cell_type": "code",
   "execution_count": 12,
   "id": "e817153d",
   "metadata": {},
   "outputs": [
    {
     "data": {
      "image/png": "[encoded data removed]",
      "text/plain": [
       "<Figure size 1584x1080 with 1 Axes>"
      ]
     },
     "metadata": {
      "needs_background": "light"
     },
     "output_type": "display_data"
    }
   ],
   "source": [
    "plt.style.use('seaborn')\n",
    "plt.figure(figsize=(22,15))\n",
    "plt.bar(table.index, table['number'])\n",
    "plt.xticks(ticks=table.index,rotation=0)\n",
    "plt.title('District with most immigrants',fontsize=25)\n",
    "plt.xlabel('Districts',fontsize=23)\n",
    "plt.ylabel('Immigrants',fontsize=23)\n",
    "plt.title('immigrants in each district',fontsize=25)\n",
    "plt.savefig('immigrants in each district.jpg',dpi=300)\n",
    "plt.show()"
   ]
  },
  {
   "cell_type": "markdown",
   "id": "fa8cd548",
   "metadata": {},
   "source": []
  },
  {
   "cell_type": "markdown",
   "id": "ae89d64e",
   "metadata": {},
   "source": [
    "<h3>Bar Graph 2</h3>\n",
    "<h4>Deaths in Each District</h4>"
   ]
  },
  {
   "cell_type": "code",
   "execution_count": 14,
   "id": "2a382216",
   "metadata": {},
   "outputs": [],
   "source": [
    "df_k = pd.read_csv(r'deaths.csv')"
   ]
  },
  {
   "cell_type": "code",
   "execution_count": 15,
   "id": "e28f2234",
   "metadata": {},
   "outputs": [
    {
     "data": {
      "text/html": [
       "<div>\n",
       "<style scoped>\n",
       "    .dataframe tbody tr th:only-of-type {\n",
       "        vertical-align: middle;\n",
       "    }\n",
       "\n",
       "    .dataframe tbody tr th {\n",
       "        vertical-align: top;\n",
       "    }\n",
       "\n",
       "    .dataframe thead th {\n",
       "        text-align: right;\n",
       "    }\n",
       "</style>\n",
       "<table border=\"1\" class=\"dataframe\">\n",
       "  <thead>\n",
       "    <tr style=\"text-align: right;\">\n",
       "      <th></th>\n",
       "      <th>year</th>\n",
       "      <th>district_code</th>\n",
       "      <th>district_name</th>\n",
       "      <th>neighbourhood_code</th>\n",
       "      <th>neighbourhood_name</th>\n",
       "      <th>age</th>\n",
       "      <th>number</th>\n",
       "    </tr>\n",
       "  </thead>\n",
       "  <tbody>\n",
       "    <tr>\n",
       "      <th>0</th>\n",
       "      <td>2017</td>\n",
       "      <td>1</td>\n",
       "      <td>Ciutat Vella</td>\n",
       "      <td>1</td>\n",
       "      <td>el Raval</td>\n",
       "      <td>0-4</td>\n",
       "      <td>1</td>\n",
       "    </tr>\n",
       "    <tr>\n",
       "      <th>1</th>\n",
       "      <td>2017</td>\n",
       "      <td>1</td>\n",
       "      <td>Ciutat Vella</td>\n",
       "      <td>2</td>\n",
       "      <td>el Barri Gòtic</td>\n",
       "      <td>0-4</td>\n",
       "      <td>1</td>\n",
       "    </tr>\n",
       "    <tr>\n",
       "      <th>2</th>\n",
       "      <td>2017</td>\n",
       "      <td>1</td>\n",
       "      <td>Ciutat Vella</td>\n",
       "      <td>3</td>\n",
       "      <td>la Barceloneta</td>\n",
       "      <td>0-4</td>\n",
       "      <td>0</td>\n",
       "    </tr>\n",
       "    <tr>\n",
       "      <th>3</th>\n",
       "      <td>2017</td>\n",
       "      <td>1</td>\n",
       "      <td>Ciutat Vella</td>\n",
       "      <td>4</td>\n",
       "      <td>Sant Pere, Santa Caterina i la Ribera</td>\n",
       "      <td>0-4</td>\n",
       "      <td>0</td>\n",
       "    </tr>\n",
       "    <tr>\n",
       "      <th>4</th>\n",
       "      <td>2017</td>\n",
       "      <td>2</td>\n",
       "      <td>Eixample</td>\n",
       "      <td>5</td>\n",
       "      <td>el Fort Pienc</td>\n",
       "      <td>0-4</td>\n",
       "      <td>0</td>\n",
       "    </tr>\n",
       "    <tr>\n",
       "      <th>...</th>\n",
       "      <td>...</td>\n",
       "      <td>...</td>\n",
       "      <td>...</td>\n",
       "      <td>...</td>\n",
       "      <td>...</td>\n",
       "      <td>...</td>\n",
       "      <td>...</td>\n",
       "    </tr>\n",
       "    <tr>\n",
       "      <th>4594</th>\n",
       "      <td>2015</td>\n",
       "      <td>10</td>\n",
       "      <td>Sant Martí</td>\n",
       "      <td>69</td>\n",
       "      <td>Diagonal Mar i el Front Marítim del Poblenou</td>\n",
       "      <td>&gt;=100</td>\n",
       "      <td>1</td>\n",
       "    </tr>\n",
       "    <tr>\n",
       "      <th>4595</th>\n",
       "      <td>2015</td>\n",
       "      <td>10</td>\n",
       "      <td>Sant Martí</td>\n",
       "      <td>70</td>\n",
       "      <td>el Besòs i el Maresme</td>\n",
       "      <td>&gt;=100</td>\n",
       "      <td>3</td>\n",
       "    </tr>\n",
       "    <tr>\n",
       "      <th>4596</th>\n",
       "      <td>2015</td>\n",
       "      <td>10</td>\n",
       "      <td>Sant Martí</td>\n",
       "      <td>71</td>\n",
       "      <td>Provençals del Poblenou</td>\n",
       "      <td>&gt;=100</td>\n",
       "      <td>2</td>\n",
       "    </tr>\n",
       "    <tr>\n",
       "      <th>4597</th>\n",
       "      <td>2015</td>\n",
       "      <td>10</td>\n",
       "      <td>Sant Martí</td>\n",
       "      <td>72</td>\n",
       "      <td>Sant Martí de Provençals</td>\n",
       "      <td>&gt;=100</td>\n",
       "      <td>1</td>\n",
       "    </tr>\n",
       "    <tr>\n",
       "      <th>4598</th>\n",
       "      <td>2015</td>\n",
       "      <td>10</td>\n",
       "      <td>Sant Martí</td>\n",
       "      <td>73</td>\n",
       "      <td>la Verneda i la Pau</td>\n",
       "      <td>&gt;=100</td>\n",
       "      <td>8</td>\n",
       "    </tr>\n",
       "  </tbody>\n",
       "</table>\n",
       "<p>4599 rows × 7 columns</p>\n",
       "</div>"
      ],
      "text/plain": [
       "      year  district_code district_name  neighbourhood_code  \\\n",
       "0     2017              1  Ciutat Vella                   1   \n",
       "1     2017              1  Ciutat Vella                   2   \n",
       "2     2017              1  Ciutat Vella                   3   \n",
       "3     2017              1  Ciutat Vella                   4   \n",
       "4     2017              2      Eixample                   5   \n",
       "...    ...            ...           ...                 ...   \n",
       "4594  2015             10    Sant Martí                  69   \n",
       "4595  2015             10    Sant Martí                  70   \n",
       "4596  2015             10    Sant Martí                  71   \n",
       "4597  2015             10    Sant Martí                  72   \n",
       "4598  2015             10    Sant Martí                  73   \n",
       "\n",
       "                                neighbourhood_name    age  number  \n",
       "0                                         el Raval    0-4       1  \n",
       "1                                   el Barri Gòtic    0-4       1  \n",
       "2                                   la Barceloneta    0-4       0  \n",
       "3            Sant Pere, Santa Caterina i la Ribera    0-4       0  \n",
       "4                                    el Fort Pienc    0-4       0  \n",
       "...                                            ...    ...     ...  \n",
       "4594  Diagonal Mar i el Front Marítim del Poblenou  >=100       1  \n",
       "4595                         el Besòs i el Maresme  >=100       3  \n",
       "4596                       Provençals del Poblenou  >=100       2  \n",
       "4597                      Sant Martí de Provençals  >=100       1  \n",
       "4598                           la Verneda i la Pau  >=100       8  \n",
       "\n",
       "[4599 rows x 7 columns]"
      ]
     },
     "execution_count": 15,
     "metadata": {},
     "output_type": "execute_result"
    }
   ],
   "source": [
    "df_k\n"
   ]
  },
  {
   "cell_type": "code",
   "execution_count": 16,
   "id": "f352f7c4",
   "metadata": {},
   "outputs": [
    {
     "data": {
      "text/html": [
       "<div>\n",
       "<style scoped>\n",
       "    .dataframe tbody tr th:only-of-type {\n",
       "        vertical-align: middle;\n",
       "    }\n",
       "\n",
       "    .dataframe tbody tr th {\n",
       "        vertical-align: top;\n",
       "    }\n",
       "\n",
       "    .dataframe thead th {\n",
       "        text-align: right;\n",
       "    }\n",
       "</style>\n",
       "<table border=\"1\" class=\"dataframe\">\n",
       "  <thead>\n",
       "    <tr style=\"text-align: right;\">\n",
       "      <th></th>\n",
       "      <th>number</th>\n",
       "    </tr>\n",
       "    <tr>\n",
       "      <th>district_name</th>\n",
       "      <th></th>\n",
       "    </tr>\n",
       "  </thead>\n",
       "  <tbody>\n",
       "    <tr>\n",
       "      <th>Ciutat Vella</th>\n",
       "      <td>2435</td>\n",
       "    </tr>\n",
       "    <tr>\n",
       "      <th>Eixample</th>\n",
       "      <td>8128</td>\n",
       "    </tr>\n",
       "    <tr>\n",
       "      <th>Gràcia</th>\n",
       "      <td>3610</td>\n",
       "    </tr>\n",
       "    <tr>\n",
       "      <th>Horta-Guinardó</th>\n",
       "      <td>5445</td>\n",
       "    </tr>\n",
       "    <tr>\n",
       "      <th>Les Corts</th>\n",
       "      <td>2296</td>\n",
       "    </tr>\n",
       "    <tr>\n",
       "      <th>Nou Barris</th>\n",
       "      <td>5050</td>\n",
       "    </tr>\n",
       "    <tr>\n",
       "      <th>Sant Andreu</th>\n",
       "      <td>3904</td>\n",
       "    </tr>\n",
       "    <tr>\n",
       "      <th>Sant Martí</th>\n",
       "      <td>6148</td>\n",
       "    </tr>\n",
       "    <tr>\n",
       "      <th>Sants-Montjuïc</th>\n",
       "      <td>5053</td>\n",
       "    </tr>\n",
       "    <tr>\n",
       "      <th>Sarrià-Sant Gervasi</th>\n",
       "      <td>4156</td>\n",
       "    </tr>\n",
       "  </tbody>\n",
       "</table>\n",
       "</div>"
      ],
      "text/plain": [
       "                     number\n",
       "district_name              \n",
       "Ciutat Vella           2435\n",
       "Eixample               8128\n",
       "Gràcia                 3610\n",
       "Horta-Guinardó         5445\n",
       "Les Corts              2296\n",
       "Nou Barris             5050\n",
       "Sant Andreu            3904\n",
       "Sant Martí             6148\n",
       "Sants-Montjuïc         5053\n",
       "Sarrià-Sant Gervasi    4156"
      ]
     },
     "execution_count": 16,
     "metadata": {},
     "output_type": "execute_result"
    }
   ],
   "source": [
    "tablex = pd.pivot_table(data = df_k, index = 'district_name', values = 'number', aggfunc = np.sum)\n",
    "tablex"
   ]
  },
  {
   "cell_type": "code",
   "execution_count": 17,
   "id": "9c30f46c",
   "metadata": {},
   "outputs": [
    {
     "data": {
      "image/png": "[encoded data removed]",
      "text/plain": [
       "<Figure size 1584x1080 with 1 Axes>"
      ]
     },
     "metadata": {},
     "output_type": "display_data"
    }
   ],
   "source": [
    "plt.style.use('fivethirtyeight')\n",
    "plt.figure(figsize=(22,15))\n",
    "plt.bar(tablex.index, tablex['number'])\n",
    "plt.xticks(ticks=table.index,rotation=0)\n",
    "plt.xlabel('District',fontsize=21)\n",
    "plt.ylabel('Deaths',fontsize=21)\n",
    "plt.title('deaths in each district',fontsize=25)\n",
    "plt.savefig('deaths in each district.jpg',dpi=300)\n",
    "plt.show()"
   ]
  },
  {
   "cell_type": "markdown",
   "id": "553f1e94",
   "metadata": {},
   "source": [
    "<h2>Pie Chart 1</h2>\n",
    "<h3>Ratio of Immigrants in Each District</h3>"
   ]
  },
  {
   "cell_type": "code",
   "execution_count": 18,
   "id": "3ca3600a",
   "metadata": {},
   "outputs": [
    {
     "data": {
      "text/html": [
       "<div>\n",
       "<style scoped>\n",
       "    .dataframe tbody tr th:only-of-type {\n",
       "        vertical-align: middle;\n",
       "    }\n",
       "\n",
       "    .dataframe tbody tr th {\n",
       "        vertical-align: top;\n",
       "    }\n",
       "\n",
       "    .dataframe thead th {\n",
       "        text-align: right;\n",
       "    }\n",
       "</style>\n",
       "<table border=\"1\" class=\"dataframe\">\n",
       "  <thead>\n",
       "    <tr style=\"text-align: right;\">\n",
       "      <th></th>\n",
       "      <th>year</th>\n",
       "      <th>district_code</th>\n",
       "      <th>district_name</th>\n",
       "      <th>neighbourhood_code</th>\n",
       "      <th>neighbourhood_name</th>\n",
       "      <th>nationality</th>\n",
       "      <th>number</th>\n",
       "    </tr>\n",
       "  </thead>\n",
       "  <tbody>\n",
       "    <tr>\n",
       "      <th>0</th>\n",
       "      <td>2017</td>\n",
       "      <td>1</td>\n",
       "      <td>Ciutat Vella</td>\n",
       "      <td>1</td>\n",
       "      <td>el Raval</td>\n",
       "      <td>Spain</td>\n",
       "      <td>1109</td>\n",
       "    </tr>\n",
       "    <tr>\n",
       "      <th>1</th>\n",
       "      <td>2017</td>\n",
       "      <td>1</td>\n",
       "      <td>Ciutat Vella</td>\n",
       "      <td>2</td>\n",
       "      <td>el Barri Gòtic</td>\n",
       "      <td>Spain</td>\n",
       "      <td>482</td>\n",
       "    </tr>\n",
       "    <tr>\n",
       "      <th>2</th>\n",
       "      <td>2017</td>\n",
       "      <td>1</td>\n",
       "      <td>Ciutat Vella</td>\n",
       "      <td>3</td>\n",
       "      <td>la Barceloneta</td>\n",
       "      <td>Spain</td>\n",
       "      <td>414</td>\n",
       "    </tr>\n",
       "    <tr>\n",
       "      <th>3</th>\n",
       "      <td>2017</td>\n",
       "      <td>1</td>\n",
       "      <td>Ciutat Vella</td>\n",
       "      <td>4</td>\n",
       "      <td>Sant Pere, Santa Caterina i la Ribera</td>\n",
       "      <td>Spain</td>\n",
       "      <td>537</td>\n",
       "    </tr>\n",
       "    <tr>\n",
       "      <th>4</th>\n",
       "      <td>2017</td>\n",
       "      <td>2</td>\n",
       "      <td>Eixample</td>\n",
       "      <td>5</td>\n",
       "      <td>el Fort Pienc</td>\n",
       "      <td>Spain</td>\n",
       "      <td>663</td>\n",
       "    </tr>\n",
       "    <tr>\n",
       "      <th>...</th>\n",
       "      <td>...</td>\n",
       "      <td>...</td>\n",
       "      <td>...</td>\n",
       "      <td>...</td>\n",
       "      <td>...</td>\n",
       "      <td>...</td>\n",
       "      <td>...</td>\n",
       "    </tr>\n",
       "    <tr>\n",
       "      <th>35219</th>\n",
       "      <td>2015</td>\n",
       "      <td>10</td>\n",
       "      <td>Sant Martí</td>\n",
       "      <td>70</td>\n",
       "      <td>el Besòs i el Maresme</td>\n",
       "      <td>No information</td>\n",
       "      <td>0</td>\n",
       "    </tr>\n",
       "    <tr>\n",
       "      <th>35220</th>\n",
       "      <td>2015</td>\n",
       "      <td>10</td>\n",
       "      <td>Sant Martí</td>\n",
       "      <td>71</td>\n",
       "      <td>Provençals del Poblenou</td>\n",
       "      <td>No information</td>\n",
       "      <td>0</td>\n",
       "    </tr>\n",
       "    <tr>\n",
       "      <th>35221</th>\n",
       "      <td>2015</td>\n",
       "      <td>10</td>\n",
       "      <td>Sant Martí</td>\n",
       "      <td>72</td>\n",
       "      <td>Sant Martí de Provençals</td>\n",
       "      <td>No information</td>\n",
       "      <td>0</td>\n",
       "    </tr>\n",
       "    <tr>\n",
       "      <th>35222</th>\n",
       "      <td>2015</td>\n",
       "      <td>10</td>\n",
       "      <td>Sant Martí</td>\n",
       "      <td>73</td>\n",
       "      <td>la Verneda i la Pau</td>\n",
       "      <td>No information</td>\n",
       "      <td>1</td>\n",
       "    </tr>\n",
       "    <tr>\n",
       "      <th>35223</th>\n",
       "      <td>2015</td>\n",
       "      <td>99</td>\n",
       "      <td>No consta</td>\n",
       "      <td>99</td>\n",
       "      <td>No consta</td>\n",
       "      <td>No information</td>\n",
       "      <td>0</td>\n",
       "    </tr>\n",
       "  </tbody>\n",
       "</table>\n",
       "<p>35224 rows × 7 columns</p>\n",
       "</div>"
      ],
      "text/plain": [
       "       year  district_code district_name  neighbourhood_code  \\\n",
       "0      2017              1  Ciutat Vella                   1   \n",
       "1      2017              1  Ciutat Vella                   2   \n",
       "2      2017              1  Ciutat Vella                   3   \n",
       "3      2017              1  Ciutat Vella                   4   \n",
       "4      2017              2      Eixample                   5   \n",
       "...     ...            ...           ...                 ...   \n",
       "35219  2015             10    Sant Martí                  70   \n",
       "35220  2015             10    Sant Martí                  71   \n",
       "35221  2015             10    Sant Martí                  72   \n",
       "35222  2015             10    Sant Martí                  73   \n",
       "35223  2015             99     No consta                  99   \n",
       "\n",
       "                          neighbourhood_name     nationality  number  \n",
       "0                                   el Raval           Spain    1109  \n",
       "1                             el Barri Gòtic           Spain     482  \n",
       "2                             la Barceloneta           Spain     414  \n",
       "3      Sant Pere, Santa Caterina i la Ribera           Spain     537  \n",
       "4                              el Fort Pienc           Spain     663  \n",
       "...                                      ...             ...     ...  \n",
       "35219                  el Besòs i el Maresme  No information       0  \n",
       "35220                Provençals del Poblenou  No information       0  \n",
       "35221               Sant Martí de Provençals  No information       0  \n",
       "35222                    la Verneda i la Pau  No information       1  \n",
       "35223                              No consta  No information       0  \n",
       "\n",
       "[35224 rows x 7 columns]"
      ]
     },
     "execution_count": 18,
     "metadata": {},
     "output_type": "execute_result"
    }
   ],
   "source": [
    "df"
   ]
  },
  {
   "cell_type": "code",
   "execution_count": 19,
   "id": "09454345",
   "metadata": {},
   "outputs": [
    {
     "data": {
      "text/plain": [
       "11"
      ]
     },
     "execution_count": 19,
     "metadata": {},
     "output_type": "execute_result"
    }
   ],
   "source": [
    "district_count = df['district_name'].nunique()\n",
    "district_count"
   ]
  },
  {
   "cell_type": "code",
   "execution_count": 20,
   "id": "39636d84",
   "metadata": {},
   "outputs": [
    {
     "data": {
      "text/plain": [
       "array(['Ciutat Vella', 'Eixample', 'Sants-Montjuïc', 'Les Corts',\n",
       "       'Sarrià-Sant Gervasi', 'Gràcia', 'Horta-Guinardó', 'Nou Barris',\n",
       "       'Sant Andreu', 'Sant Martí', 'No consta'], dtype=object)"
      ]
     },
     "execution_count": 20,
     "metadata": {},
     "output_type": "execute_result"
    }
   ],
   "source": [
    "df['district_name'].unique()"
   ]
  },
  {
   "cell_type": "code",
   "execution_count": 21,
   "id": "23672b3a",
   "metadata": {},
   "outputs": [
    {
     "data": {
      "text/plain": [
       "271481"
      ]
     },
     "execution_count": 21,
     "metadata": {},
     "output_type": "execute_result"
    }
   ],
   "source": [
    "totalb = df['number'].sum()\n",
    "totalb"
   ]
  },
  {
   "cell_type": "code",
   "execution_count": 23,
   "id": "a5aa62b3",
   "metadata": {},
   "outputs": [
    {
     "data": {
      "text/plain": [
       "{'Ciutat Vella': 0.1302301081843665,\n",
       " 'Eixample': 0.1941203988492749,\n",
       " 'Sants-Montjuïc': 0.12201590534880893,\n",
       " 'Les Corts': 0.046301582799532934,\n",
       " 'Sarrià-Sant Gervasi': 0.07681568875906601,\n",
       " 'Gràcia': 0.07428880842489897,\n",
       " 'Horta-Guinardó': 0.07849168081744211,\n",
       " 'Nou Barris': 0.08309973810321901,\n",
       " 'Sant Andreu': 0.06523108431160929,\n",
       " 'Sant Martí': 0.12934238491828157,\n",
       " 'No consta': 6.26194834997661e-05}"
      ]
     },
     "execution_count": 23,
     "metadata": {},
     "output_type": "execute_result"
    }
   ],
   "source": [
    "d_dist = {}\n",
    "for i in range(district_count):\n",
    "    k = df['district_name'].unique()[i]\n",
    "    k_immi = df[df['district_name'] ==k]['number'].sum()\n",
    "    d_dist[k] = k_immi/totalb\n",
    "d_dist"
   ]
  },
  {
   "cell_type": "code",
   "execution_count": 26,
   "id": "c04cddc9",
   "metadata": {},
   "outputs": [
    {
     "data": {
      "image/png": "[encoded data removed]",
      "text/plain": [
       "<Figure size 432x288 with 1 Axes>"
      ]
     },
     "metadata": {},
     "output_type": "display_data"
    }
   ],
   "source": [
    "plt.pie(x=list(d_dist.values()), labels=list(d_dist.keys()),explode = [0.03,0.03,0.02,0.02,0.01,0.02,0.03,0.02,0.02,0.03,0.04] , autopct = '%0.1f', shadow = False, radius = 1)\n",
    "plt.title('Ratio of Immigrants in Each District' , fontsize =25)\n",
    "plt.savefig(\"ratio_of_immigrants_in_district.jpeg\" , dpi=300)\n",
    "plt.show()"
   ]
  },
  {
   "cell_type": "markdown",
   "id": "295eb5f1",
   "metadata": {},
   "source": [
    "<h3>Pie Chart 2</h3>\n",
    "<h4>Deaths in Each District</h4>"
   ]
  },
  {
   "cell_type": "code",
   "execution_count": 27,
   "id": "37de45c9",
   "metadata": {},
   "outputs": [
    {
     "data": {
      "text/html": [
       "<div>\n",
       "<style scoped>\n",
       "    .dataframe tbody tr th:only-of-type {\n",
       "        vertical-align: middle;\n",
       "    }\n",
       "\n",
       "    .dataframe tbody tr th {\n",
       "        vertical-align: top;\n",
       "    }\n",
       "\n",
       "    .dataframe thead th {\n",
       "        text-align: right;\n",
       "    }\n",
       "</style>\n",
       "<table border=\"1\" class=\"dataframe\">\n",
       "  <thead>\n",
       "    <tr style=\"text-align: right;\">\n",
       "      <th></th>\n",
       "      <th>year</th>\n",
       "      <th>district_code</th>\n",
       "      <th>district_name</th>\n",
       "      <th>neighbourhood_code</th>\n",
       "      <th>neighbourhood_name</th>\n",
       "      <th>age</th>\n",
       "      <th>number</th>\n",
       "    </tr>\n",
       "  </thead>\n",
       "  <tbody>\n",
       "    <tr>\n",
       "      <th>0</th>\n",
       "      <td>2017</td>\n",
       "      <td>1</td>\n",
       "      <td>Ciutat Vella</td>\n",
       "      <td>1</td>\n",
       "      <td>el Raval</td>\n",
       "      <td>0-4</td>\n",
       "      <td>1</td>\n",
       "    </tr>\n",
       "    <tr>\n",
       "      <th>1</th>\n",
       "      <td>2017</td>\n",
       "      <td>1</td>\n",
       "      <td>Ciutat Vella</td>\n",
       "      <td>2</td>\n",
       "      <td>el Barri Gòtic</td>\n",
       "      <td>0-4</td>\n",
       "      <td>1</td>\n",
       "    </tr>\n",
       "    <tr>\n",
       "      <th>2</th>\n",
       "      <td>2017</td>\n",
       "      <td>1</td>\n",
       "      <td>Ciutat Vella</td>\n",
       "      <td>3</td>\n",
       "      <td>la Barceloneta</td>\n",
       "      <td>0-4</td>\n",
       "      <td>0</td>\n",
       "    </tr>\n",
       "    <tr>\n",
       "      <th>3</th>\n",
       "      <td>2017</td>\n",
       "      <td>1</td>\n",
       "      <td>Ciutat Vella</td>\n",
       "      <td>4</td>\n",
       "      <td>Sant Pere, Santa Caterina i la Ribera</td>\n",
       "      <td>0-4</td>\n",
       "      <td>0</td>\n",
       "    </tr>\n",
       "    <tr>\n",
       "      <th>4</th>\n",
       "      <td>2017</td>\n",
       "      <td>2</td>\n",
       "      <td>Eixample</td>\n",
       "      <td>5</td>\n",
       "      <td>el Fort Pienc</td>\n",
       "      <td>0-4</td>\n",
       "      <td>0</td>\n",
       "    </tr>\n",
       "    <tr>\n",
       "      <th>...</th>\n",
       "      <td>...</td>\n",
       "      <td>...</td>\n",
       "      <td>...</td>\n",
       "      <td>...</td>\n",
       "      <td>...</td>\n",
       "      <td>...</td>\n",
       "      <td>...</td>\n",
       "    </tr>\n",
       "    <tr>\n",
       "      <th>4594</th>\n",
       "      <td>2015</td>\n",
       "      <td>10</td>\n",
       "      <td>Sant Martí</td>\n",
       "      <td>69</td>\n",
       "      <td>Diagonal Mar i el Front Marítim del Poblenou</td>\n",
       "      <td>&gt;=100</td>\n",
       "      <td>1</td>\n",
       "    </tr>\n",
       "    <tr>\n",
       "      <th>4595</th>\n",
       "      <td>2015</td>\n",
       "      <td>10</td>\n",
       "      <td>Sant Martí</td>\n",
       "      <td>70</td>\n",
       "      <td>el Besòs i el Maresme</td>\n",
       "      <td>&gt;=100</td>\n",
       "      <td>3</td>\n",
       "    </tr>\n",
       "    <tr>\n",
       "      <th>4596</th>\n",
       "      <td>2015</td>\n",
       "      <td>10</td>\n",
       "      <td>Sant Martí</td>\n",
       "      <td>71</td>\n",
       "      <td>Provençals del Poblenou</td>\n",
       "      <td>&gt;=100</td>\n",
       "      <td>2</td>\n",
       "    </tr>\n",
       "    <tr>\n",
       "      <th>4597</th>\n",
       "      <td>2015</td>\n",
       "      <td>10</td>\n",
       "      <td>Sant Martí</td>\n",
       "      <td>72</td>\n",
       "      <td>Sant Martí de Provençals</td>\n",
       "      <td>&gt;=100</td>\n",
       "      <td>1</td>\n",
       "    </tr>\n",
       "    <tr>\n",
       "      <th>4598</th>\n",
       "      <td>2015</td>\n",
       "      <td>10</td>\n",
       "      <td>Sant Martí</td>\n",
       "      <td>73</td>\n",
       "      <td>la Verneda i la Pau</td>\n",
       "      <td>&gt;=100</td>\n",
       "      <td>8</td>\n",
       "    </tr>\n",
       "  </tbody>\n",
       "</table>\n",
       "<p>4599 rows × 7 columns</p>\n",
       "</div>"
      ],
      "text/plain": [
       "      year  district_code district_name  neighbourhood_code  \\\n",
       "0     2017              1  Ciutat Vella                   1   \n",
       "1     2017              1  Ciutat Vella                   2   \n",
       "2     2017              1  Ciutat Vella                   3   \n",
       "3     2017              1  Ciutat Vella                   4   \n",
       "4     2017              2      Eixample                   5   \n",
       "...    ...            ...           ...                 ...   \n",
       "4594  2015             10    Sant Martí                  69   \n",
       "4595  2015             10    Sant Martí                  70   \n",
       "4596  2015             10    Sant Martí                  71   \n",
       "4597  2015             10    Sant Martí                  72   \n",
       "4598  2015             10    Sant Martí                  73   \n",
       "\n",
       "                                neighbourhood_name    age  number  \n",
       "0                                         el Raval    0-4       1  \n",
       "1                                   el Barri Gòtic    0-4       1  \n",
       "2                                   la Barceloneta    0-4       0  \n",
       "3            Sant Pere, Santa Caterina i la Ribera    0-4       0  \n",
       "4                                    el Fort Pienc    0-4       0  \n",
       "...                                            ...    ...     ...  \n",
       "4594  Diagonal Mar i el Front Marítim del Poblenou  >=100       1  \n",
       "4595                         el Besòs i el Maresme  >=100       3  \n",
       "4596                       Provençals del Poblenou  >=100       2  \n",
       "4597                      Sant Martí de Provençals  >=100       1  \n",
       "4598                           la Verneda i la Pau  >=100       8  \n",
       "\n",
       "[4599 rows x 7 columns]"
      ]
     },
     "execution_count": 27,
     "metadata": {},
     "output_type": "execute_result"
    }
   ],
   "source": [
    "df_k"
   ]
  },
  {
   "cell_type": "code",
   "execution_count": 29,
   "id": "53ca054d",
   "metadata": {},
   "outputs": [
    {
     "data": {
      "text/plain": [
       "10"
      ]
     },
     "execution_count": 29,
     "metadata": {},
     "output_type": "execute_result"
    }
   ],
   "source": [
    "death_count = df_k['district_name'].nunique()\n",
    "death_count"
   ]
  },
  {
   "cell_type": "code",
   "execution_count": 30,
   "id": "ce4e5375",
   "metadata": {},
   "outputs": [
    {
     "data": {
      "text/plain": [
       "array(['Ciutat Vella', 'Eixample', 'Sants-Montjuïc', 'Les Corts',\n",
       "       'Sarrià-Sant Gervasi', 'Gràcia', 'Horta-Guinardó', 'Nou Barris',\n",
       "       'Sant Andreu', 'Sant Martí'], dtype=object)"
      ]
     },
     "execution_count": 30,
     "metadata": {},
     "output_type": "execute_result"
    }
   ],
   "source": [
    "df_k['district_name'].unique()"
   ]
  },
  {
   "cell_type": "code",
   "execution_count": 31,
   "id": "49997ce4",
   "metadata": {},
   "outputs": [
    {
     "data": {
      "text/plain": [
       "46225"
      ]
     },
     "execution_count": 31,
     "metadata": {},
     "output_type": "execute_result"
    }
   ],
   "source": [
    "totalm = df_k['number'].sum()\n",
    "totalm"
   ]
  },
  {
   "cell_type": "code",
   "execution_count": 32,
   "id": "ea3e7700",
   "metadata": {},
   "outputs": [
    {
     "data": {
      "text/plain": [
       "{'Ciutat Vella': 0.05267712276906436,\n",
       " 'Eixample': 0.17583558680367767,\n",
       " 'Sants-Montjuïc': 0.10931314223904813,\n",
       " 'Les Corts': 0.04967009194159005,\n",
       " 'Sarrià-Sant Gervasi': 0.08990805840995132,\n",
       " 'Gràcia': 0.0780962682531098,\n",
       " 'Horta-Guinardó': 0.1177934018388318,\n",
       " 'Nou Barris': 0.10924824229313142,\n",
       " 'Sant Andreu': 0.08445646295294754,\n",
       " 'Sant Martí': 0.13300162249864791}"
      ]
     },
     "execution_count": 32,
     "metadata": {},
     "output_type": "execute_result"
    }
   ],
   "source": [
    "d_death = {}\n",
    "for i in range(death_count):\n",
    "    d = df_k['district_name'].unique()[i]\n",
    "    d_count = df_k[df_k['district_name'] ==d]['number'].sum()\n",
    "    d_death[d] = d_count/totalm\n",
    "d_death"
   ]
  },
  {
   "cell_type": "code",
   "execution_count": 36,
   "id": "a5e578e8",
   "metadata": {},
   "outputs": [
    {
     "data": {
      "image/png": "[encoded data removed]",
      "text/plain": [
       "<Figure size 432x288 with 1 Axes>"
      ]
     },
     "metadata": {},
     "output_type": "display_data"
    }
   ],
   "source": [
    "plt.pie(x=list(d_death.values()), labels=list(d_death.keys()),explode = [0.03,0.03,0.02,0.02,0.03,0.02,0.03,0.02,0.02,0.03] , autopct = '%0.1f', shadow = False, radius = 1)\n",
    "plt.title('Ratio of Deaths in Each District' , fontsize =25)\n",
    "mycolors = [\"black\", \"hotpink\", \"b\", \"r\",\"green\",\"blue\",\"maroon\",\"orange\",\"pink\",\"yellow\"]\n",
    "plt.savefig(\"ratio_of_deaths_in_district.jpeg\" , dpi=300)\n",
    "plt.show()"
   ]
  }
 ],
 "metadata": {
  "kernelspec": {
   "display_name": "Python 3 (ipykernel)",
   "language": "python",
   "name": "python3"
  },
  "language_info": {
   "codemirror_mode": {
    "name": "ipython",
    "version": 3
   },
   "file_extension": ".py",
   "mimetype": "text/x-python",
   "name": "python",
   "nbconvert_exporter": "python",
   "pygments_lexer": "ipython3",
   "version": "3.9.13"
  }
 },
 "nbformat": 4,
 "nbformat_minor": 5
}
