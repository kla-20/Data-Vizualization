{
 "cells": [
  {
   "cell_type": "markdown",
   "id": "141cbc7e",
   "metadata": {},
   "source": [
    "<h4>\n",
    "Date : 6 September</h4>\n",
    "<h4>Barcelona Assignment 2</h4>\n",
    "<h4>Regd No - 22231\n",
    "||class: MSC 1st Year</h4>"
   ]
  },
  {
   "cell_type": "markdown",
   "id": "ea20afeb",
   "metadata": {},
   "source": [
    "<h2>Box plot 1</h2>\n",
    "<h4>Whose Births are more? Boys or Girls</h4>"
   ]
  },
  {
   "cell_type": "code",
   "execution_count": 2,
   "id": "c1d225c3",
   "metadata": {},
   "outputs": [],
   "source": [
    "import pandas as pd\n",
    "import matplotlib.pyplot as plt\n",
    "import numpy as np\n"
   ]
  },
  {
   "cell_type": "code",
   "execution_count": 3,
   "id": "196455c4",
   "metadata": {},
   "outputs": [],
   "source": [
    "df = pd.read_csv(r'births.csv')"
   ]
  },
  {
   "cell_type": "code",
   "execution_count": 4,
   "id": "460d63b5",
   "metadata": {},
   "outputs": [
    {
     "data": {
      "text/html": [
       "<div>\n",
       "<style scoped>\n",
       "    .dataframe tbody tr th:only-of-type {\n",
       "        vertical-align: middle;\n",
       "    }\n",
       "\n",
       "    .dataframe tbody tr th {\n",
       "        vertical-align: top;\n",
       "    }\n",
       "\n",
       "    .dataframe thead th {\n",
       "        text-align: right;\n",
       "    }\n",
       "</style>\n",
       "<table border=\"1\" class=\"dataframe\">\n",
       "  <thead>\n",
       "    <tr style=\"text-align: right;\">\n",
       "      <th></th>\n",
       "      <th>Year</th>\n",
       "      <th>district_code</th>\n",
       "      <th>district_name</th>\n",
       "      <th>neighbourhood_code</th>\n",
       "      <th>neighbourhood_name</th>\n",
       "      <th>Gender</th>\n",
       "      <th>Number</th>\n",
       "    </tr>\n",
       "  </thead>\n",
       "  <tbody>\n",
       "    <tr>\n",
       "      <th>0</th>\n",
       "      <td>2017</td>\n",
       "      <td>1</td>\n",
       "      <td>Ciutat Vella</td>\n",
       "      <td>1</td>\n",
       "      <td>el Raval</td>\n",
       "      <td>Boys</td>\n",
       "      <td>283</td>\n",
       "    </tr>\n",
       "    <tr>\n",
       "      <th>1</th>\n",
       "      <td>2017</td>\n",
       "      <td>1</td>\n",
       "      <td>Ciutat Vella</td>\n",
       "      <td>2</td>\n",
       "      <td>el Barri Gòtic</td>\n",
       "      <td>Boys</td>\n",
       "      <td>56</td>\n",
       "    </tr>\n",
       "    <tr>\n",
       "      <th>2</th>\n",
       "      <td>2017</td>\n",
       "      <td>1</td>\n",
       "      <td>Ciutat Vella</td>\n",
       "      <td>3</td>\n",
       "      <td>la Barceloneta</td>\n",
       "      <td>Boys</td>\n",
       "      <td>51</td>\n",
       "    </tr>\n",
       "    <tr>\n",
       "      <th>3</th>\n",
       "      <td>2017</td>\n",
       "      <td>1</td>\n",
       "      <td>Ciutat Vella</td>\n",
       "      <td>4</td>\n",
       "      <td>Sant Pere, Santa Caterina i la Ribera</td>\n",
       "      <td>Boys</td>\n",
       "      <td>90</td>\n",
       "    </tr>\n",
       "    <tr>\n",
       "      <th>4</th>\n",
       "      <td>2017</td>\n",
       "      <td>2</td>\n",
       "      <td>Eixample</td>\n",
       "      <td>5</td>\n",
       "      <td>el Fort Pienc</td>\n",
       "      <td>Boys</td>\n",
       "      <td>117</td>\n",
       "    </tr>\n",
       "  </tbody>\n",
       "</table>\n",
       "</div>"
      ],
      "text/plain": [
       "   Year  district_code district_name  neighbourhood_code  \\\n",
       "0  2017              1  Ciutat Vella                   1   \n",
       "1  2017              1  Ciutat Vella                   2   \n",
       "2  2017              1  Ciutat Vella                   3   \n",
       "3  2017              1  Ciutat Vella                   4   \n",
       "4  2017              2      Eixample                   5   \n",
       "\n",
       "                      neighbourhood_name Gender  Number  \n",
       "0                               el Raval   Boys     283  \n",
       "1                         el Barri Gòtic   Boys      56  \n",
       "2                         la Barceloneta   Boys      51  \n",
       "3  Sant Pere, Santa Caterina i la Ribera   Boys      90  \n",
       "4                          el Fort Pienc   Boys     117  "
      ]
     },
     "execution_count": 4,
     "metadata": {},
     "output_type": "execute_result"
    }
   ],
   "source": [
    "df.head()"
   ]
  },
  {
   "cell_type": "code",
   "execution_count": 5,
   "id": "79a197b0",
   "metadata": {},
   "outputs": [],
   "source": [
    "g_count = {}\n",
    "for i in df['Gender'].unique():\n",
    "    g_count[i] = df[df['Gender'] == i].Number"
   ]
  },
  {
   "cell_type": "code",
   "execution_count": 6,
   "id": "e5bc59fd",
   "metadata": {},
   "outputs": [
    {
     "data": {
      "text/plain": [
       "array(['Boys', 'Girls'], dtype=object)"
      ]
     },
     "execution_count": 6,
     "metadata": {},
     "output_type": "execute_result"
    }
   ],
   "source": [
    "df['Gender'].unique()"
   ]
  },
  {
   "cell_type": "code",
   "execution_count": 7,
   "id": "9cb31331",
   "metadata": {},
   "outputs": [
    {
     "data": {
      "image/png": "[encoded data removed]",
      "text/plain": [
       "<Figure size 936x540 with 1 Axes>"
      ]
     },
     "metadata": {
      "needs_background": "light"
     },
     "output_type": "display_data"
    }
   ],
   "source": [
    "plt.figure(figsize = (13,7.5))\n",
    "plt.boxplot(x= list(g_count.values()), labels = list(g_count.keys()))\n",
    "plt.title('Boys Vs Girls Birth Count', fontsize = 27)\n",
    "plt.xlabel('Gender', fontsize = 20)\n",
    "plt.ylabel('Number', fontsize = 20)\n",
    "plt.savefig('boys_girls_birth_count.jpg', dpi = 300)\n",
    "plt.show()"
   ]
  },
  {
   "cell_type": "markdown",
   "id": "29ad738a",
   "metadata": {},
   "source": [
    "We can understand that more boys are born than the girls"
   ]
  },
  {
   "cell_type": "markdown",
   "id": "226810da",
   "metadata": {},
   "source": [
    "<h2>Box plot 2</h2>\n",
    "<h4>In which year births are more?</h4>"
   ]
  },
  {
   "cell_type": "code",
   "execution_count": 8,
   "id": "65511c9c",
   "metadata": {},
   "outputs": [
    {
     "data": {
      "text/plain": [
       "array([2017, 2016, 2015, 2014, 2013], dtype=int64)"
      ]
     },
     "execution_count": 8,
     "metadata": {},
     "output_type": "execute_result"
    }
   ],
   "source": [
    "df['Year'].unique()"
   ]
  },
  {
   "cell_type": "code",
   "execution_count": 9,
   "id": "0a2af8e1",
   "metadata": {},
   "outputs": [],
   "source": [
    "b_count = {}\n",
    "for i in df['Year'].unique():\n",
    "    b_count[i] = df[df['Year'] == i].Number"
   ]
  },
  {
   "cell_type": "code",
   "execution_count": 10,
   "id": "84c6eb70",
   "metadata": {},
   "outputs": [
    {
     "data": {
      "text/plain": [
       "array([2017, 2016, 2015, 2014, 2013], dtype=int64)"
      ]
     },
     "execution_count": 10,
     "metadata": {},
     "output_type": "execute_result"
    }
   ],
   "source": [
    "df['Year'].unique()"
   ]
  },
  {
   "cell_type": "code",
   "execution_count": 11,
   "id": "fea99c76",
   "metadata": {},
   "outputs": [
    {
     "data": {
      "image/png": "[encoded data removed]",
      "text/plain": [
       "<Figure size 936x540 with 1 Axes>"
      ]
     },
     "metadata": {
      "needs_background": "light"
     },
     "output_type": "display_data"
    }
   ],
   "source": [
    "plt.figure(figsize = (13,7.5))\n",
    "plt.boxplot(x= list(b_count.values()), labels = list(b_count.keys()),widths = 0.3)\n",
    "plt.title('Birth Count in Years', fontsize = 27)\n",
    "plt.xlabel('Year', fontsize = 20)\n",
    "plt.ylabel('Number of Births', fontsize = 20)\n",
    "plt.savefig('year_birth_count.jpg', dpi = 300)\n",
    "plt.show()"
   ]
  },
  {
   "cell_type": "markdown",
   "id": "64ef3f5f",
   "metadata": {},
   "source": [
    "<h2>Histogram 1</h2>\n",
    "<h4>Number of Births in Different Years</h4>"
   ]
  },
  {
   "cell_type": "code",
   "execution_count": 2,
   "id": "f04aed0d",
   "metadata": {},
   "outputs": [],
   "source": [
    "import pandas as pd\n",
    "import matplotlib.pyplot as plt\n",
    "import numpy as np\n",
    "\n",
    "df_new = pd.read_csv(r'population.csv')"
   ]
  },
  {
   "cell_type": "code",
   "execution_count": 3,
   "id": "1eb9388f",
   "metadata": {},
   "outputs": [
    {
     "data": {
      "text/html": [
       "<div>\n",
       "<style scoped>\n",
       "    .dataframe tbody tr th:only-of-type {\n",
       "        vertical-align: middle;\n",
       "    }\n",
       "\n",
       "    .dataframe tbody tr th {\n",
       "        vertical-align: top;\n",
       "    }\n",
       "\n",
       "    .dataframe thead th {\n",
       "        text-align: right;\n",
       "    }\n",
       "</style>\n",
       "<table border=\"1\" class=\"dataframe\">\n",
       "  <thead>\n",
       "    <tr style=\"text-align: right;\">\n",
       "      <th></th>\n",
       "      <th>year</th>\n",
       "      <th>district_code</th>\n",
       "      <th>district_name</th>\n",
       "      <th>neighbourhood_code</th>\n",
       "      <th>neighbourhood_name</th>\n",
       "      <th>gender</th>\n",
       "      <th>age</th>\n",
       "      <th>number</th>\n",
       "    </tr>\n",
       "  </thead>\n",
       "  <tbody>\n",
       "    <tr>\n",
       "      <th>0</th>\n",
       "      <td>2017</td>\n",
       "      <td>1</td>\n",
       "      <td>Ciutat Vella</td>\n",
       "      <td>1</td>\n",
       "      <td>el Raval</td>\n",
       "      <td>Male</td>\n",
       "      <td>0-4</td>\n",
       "      <td>224</td>\n",
       "    </tr>\n",
       "    <tr>\n",
       "      <th>1</th>\n",
       "      <td>2017</td>\n",
       "      <td>1</td>\n",
       "      <td>Ciutat Vella</td>\n",
       "      <td>2</td>\n",
       "      <td>el Barri Gòtic</td>\n",
       "      <td>Male</td>\n",
       "      <td>0-4</td>\n",
       "      <td>50</td>\n",
       "    </tr>\n",
       "    <tr>\n",
       "      <th>2</th>\n",
       "      <td>2017</td>\n",
       "      <td>1</td>\n",
       "      <td>Ciutat Vella</td>\n",
       "      <td>3</td>\n",
       "      <td>la Barceloneta</td>\n",
       "      <td>Male</td>\n",
       "      <td>0-4</td>\n",
       "      <td>43</td>\n",
       "    </tr>\n",
       "    <tr>\n",
       "      <th>3</th>\n",
       "      <td>2017</td>\n",
       "      <td>1</td>\n",
       "      <td>Ciutat Vella</td>\n",
       "      <td>4</td>\n",
       "      <td>Sant Pere, Santa Caterina i la Ribera</td>\n",
       "      <td>Male</td>\n",
       "      <td>0-4</td>\n",
       "      <td>95</td>\n",
       "    </tr>\n",
       "    <tr>\n",
       "      <th>4</th>\n",
       "      <td>2017</td>\n",
       "      <td>2</td>\n",
       "      <td>Eixample</td>\n",
       "      <td>5</td>\n",
       "      <td>el Fort Pienc</td>\n",
       "      <td>Male</td>\n",
       "      <td>0-4</td>\n",
       "      <td>124</td>\n",
       "    </tr>\n",
       "  </tbody>\n",
       "</table>\n",
       "</div>"
      ],
      "text/plain": [
       "   year  district_code district_name  neighbourhood_code  \\\n",
       "0  2017              1  Ciutat Vella                   1   \n",
       "1  2017              1  Ciutat Vella                   2   \n",
       "2  2017              1  Ciutat Vella                   3   \n",
       "3  2017              1  Ciutat Vella                   4   \n",
       "4  2017              2      Eixample                   5   \n",
       "\n",
       "                      neighbourhood_name gender  age  number  \n",
       "0                               el Raval   Male  0-4     224  \n",
       "1                         el Barri Gòtic   Male  0-4      50  \n",
       "2                         la Barceloneta   Male  0-4      43  \n",
       "3  Sant Pere, Santa Caterina i la Ribera   Male  0-4      95  \n",
       "4                          el Fort Pienc   Male  0-4     124  "
      ]
     },
     "execution_count": 3,
     "metadata": {},
     "output_type": "execute_result"
    }
   ],
   "source": [
    "df_new.head()"
   ]
  },
  {
   "cell_type": "code",
   "execution_count": 19,
   "id": "ee05ef5f",
   "metadata": {},
   "outputs": [],
   "source": [
    "table = pd.pivot_table(data = df_new, index='age',values='number',aggfunc = np.sum)\n",
    "table = table.drop(labels='05-Sep', axis=0)\n",
    "table = table.drop(labels='Oct-14', axis=0)"
   ]
  },
  {
   "cell_type": "code",
   "execution_count": 20,
   "id": "b6c87629",
   "metadata": {},
   "outputs": [
    {
     "data": {
      "text/html": [
       "<div>\n",
       "<style scoped>\n",
       "    .dataframe tbody tr th:only-of-type {\n",
       "        vertical-align: middle;\n",
       "    }\n",
       "\n",
       "    .dataframe tbody tr th {\n",
       "        vertical-align: top;\n",
       "    }\n",
       "\n",
       "    .dataframe thead th {\n",
       "        text-align: right;\n",
       "    }\n",
       "</style>\n",
       "<table border=\"1\" class=\"dataframe\">\n",
       "  <thead>\n",
       "    <tr style=\"text-align: right;\">\n",
       "      <th></th>\n",
       "      <th>number</th>\n",
       "    </tr>\n",
       "    <tr>\n",
       "      <th>age</th>\n",
       "      <th></th>\n",
       "    </tr>\n",
       "  </thead>\n",
       "  <tbody>\n",
       "    <tr>\n",
       "      <th>0-4</th>\n",
       "      <td>343517</td>\n",
       "    </tr>\n",
       "    <tr>\n",
       "      <th>15-19</th>\n",
       "      <td>320334</td>\n",
       "    </tr>\n",
       "    <tr>\n",
       "      <th>20-24</th>\n",
       "      <td>388085</td>\n",
       "    </tr>\n",
       "    <tr>\n",
       "      <th>25-29</th>\n",
       "      <td>528625</td>\n",
       "    </tr>\n",
       "    <tr>\n",
       "      <th>30-34</th>\n",
       "      <td>643898</td>\n",
       "    </tr>\n",
       "    <tr>\n",
       "      <th>35-39</th>\n",
       "      <td>695727</td>\n",
       "    </tr>\n",
       "    <tr>\n",
       "      <th>40-44</th>\n",
       "      <td>646874</td>\n",
       "    </tr>\n",
       "    <tr>\n",
       "      <th>45-49</th>\n",
       "      <td>587788</td>\n",
       "    </tr>\n",
       "    <tr>\n",
       "      <th>50-54</th>\n",
       "      <td>550379</td>\n",
       "    </tr>\n",
       "    <tr>\n",
       "      <th>55-59</th>\n",
       "      <td>498789</td>\n",
       "    </tr>\n",
       "    <tr>\n",
       "      <th>60-64</th>\n",
       "      <td>449216</td>\n",
       "    </tr>\n",
       "    <tr>\n",
       "      <th>65-69</th>\n",
       "      <td>436198</td>\n",
       "    </tr>\n",
       "    <tr>\n",
       "      <th>70-74</th>\n",
       "      <td>363660</td>\n",
       "    </tr>\n",
       "    <tr>\n",
       "      <th>75-79</th>\n",
       "      <td>319885</td>\n",
       "    </tr>\n",
       "    <tr>\n",
       "      <th>80-84</th>\n",
       "      <td>300115</td>\n",
       "    </tr>\n",
       "    <tr>\n",
       "      <th>85-89</th>\n",
       "      <td>197926</td>\n",
       "    </tr>\n",
       "    <tr>\n",
       "      <th>90-94</th>\n",
       "      <td>86740</td>\n",
       "    </tr>\n",
       "    <tr>\n",
       "      <th>&gt;=95</th>\n",
       "      <td>23945</td>\n",
       "    </tr>\n",
       "  </tbody>\n",
       "</table>\n",
       "</div>"
      ],
      "text/plain": [
       "       number\n",
       "age          \n",
       "0-4    343517\n",
       "15-19  320334\n",
       "20-24  388085\n",
       "25-29  528625\n",
       "30-34  643898\n",
       "35-39  695727\n",
       "40-44  646874\n",
       "45-49  587788\n",
       "50-54  550379\n",
       "55-59  498789\n",
       "60-64  449216\n",
       "65-69  436198\n",
       "70-74  363660\n",
       "75-79  319885\n",
       "80-84  300115\n",
       "85-89  197926\n",
       "90-94   86740\n",
       ">=95    23945"
      ]
     },
     "execution_count": 20,
     "metadata": {},
     "output_type": "execute_result"
    }
   ],
   "source": [
    "table"
   ]
  },
  {
   "cell_type": "code",
   "execution_count": 29,
   "id": "6ef4d8ac",
   "metadata": {},
   "outputs": [
    {
     "data": {
      "image/png": "[encoded data removed]",
      "text/plain": [
       "<Figure size 1440x720 with 1 Axes>"
      ]
     },
     "metadata": {
      "needs_background": "light"
     },
     "output_type": "display_data"
    }
   ],
   "source": [
    "plt.figure(figsize = (20,10))\n",
    "plt.hist(table.index,  facecolor='brown', alpha=0.6, rwidth = 0.9, bins = 20)\n",
    "plt.title('Number of Births in across ages', fontsize = 20)\n",
    "plt.xlabel('Age',fontsize=20)\n",
    "plt.ylabel('Births',fontsize=20)\n",
    "\n",
    "#plt.xlim([2012,2018])\n",
    "plt.savefig('hist_birth_count_year.jpg', dpi = 300)\n",
    "plt.show()"
   ]
  },
  {
   "cell_type": "code",
   "execution_count": 11,
   "id": "775f012c",
   "metadata": {},
   "outputs": [
    {
     "name": "stdout",
     "output_type": "stream",
     "text": [
      "777\n"
     ]
    }
   ],
   "source": [
    "print(max(df_new['number']))"
   ]
  },
  {
   "cell_type": "code",
   "execution_count": null,
   "id": "e3c9b7aa",
   "metadata": {},
   "outputs": [],
   "source": []
  },
  {
   "cell_type": "markdown",
   "id": "55a5aa82",
   "metadata": {},
   "source": [
    "<h2>Histogram 2</h2>\n",
    "<h4>Number of Births in Districts</h4>"
   ]
  },
  {
   "cell_type": "code",
   "execution_count": 14,
   "id": "bf3ce57c",
   "metadata": {},
   "outputs": [
    {
     "data": {
      "image/png": "[encoded data removed]",
      "text/plain": [
       "<Figure size 1440x504 with 1 Axes>"
      ]
     },
     "metadata": {
      "needs_background": "light"
     },
     "output_type": "display_data"
    }
   ],
   "source": [
    "plt.figure(figsize = (20,7))\n",
    "plt.hist(df['district_name'],  facecolor='tab:olive', alpha=0.6, rwidth = 0.9, bins = 20)\n",
    "plt.title('Number of Births in Districts', fontsize = 20)\n",
    "plt.xlabel('Districts',fontsize=18)\n",
    "plt.ylabel('Number',fontsize=18)\n",
    "plt.xticks(rotation = 45)\n",
    "plt.savefig('hist_gender_birth_count_.jpg', dpi = 300)\n",
    "plt.show()"
   ]
  }
 ],
 "metadata": {
  "kernelspec": {
   "display_name": "Python 3 (ipykernel)",
   "language": "python",
   "name": "python3"
  },
  "language_info": {
   "codemirror_mode": {
    "name": "ipython",
    "version": 3
   },
   "file_extension": ".py",
   "mimetype": "text/x-python",
   "name": "python",
   "nbconvert_exporter": "python",
   "pygments_lexer": "ipython3",
   "version": "3.9.13"
  }
 },
 "nbformat": 4,
 "nbformat_minor": 5
}
